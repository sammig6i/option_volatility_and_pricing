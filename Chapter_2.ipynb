{
  "nbformat": 4,
  "nbformat_minor": 0,
  "metadata": {
    "colab": {
      "provenance": [],
      "authorship_tag": "ABX9TyM4EhekMUSzotv5uo3H1fk/",
      "include_colab_link": true
    },
    "kernelspec": {
      "name": "python3",
      "display_name": "Python 3"
    },
    "language_info": {
      "name": "python"
    }
  },
  "cells": [
    {
      "cell_type": "markdown",
      "metadata": {
        "id": "view-in-github",
        "colab_type": "text"
      },
      "source": [
        "<a href=\"https://colab.research.google.com/github/sammig6i/option_volatility_and_pricing/blob/main/Chapter_2.ipynb\" target=\"_parent\"><img src=\"https://colab.research.google.com/assets/colab-badge.svg\" alt=\"Open In Colab\"/></a>"
      ]
    },
    {
      "cell_type": "markdown",
      "source": [
        "## Chapter 2 Forward Pricing"
      ],
      "metadata": {
        "id": "lRVLVDykkGZ0"
      }
    },
    {
      "cell_type": "code",
      "source": [
        "# 1)\n",
        "\n",
        "# F = S * (1 + r * t) - D\n",
        "\n",
        "def forward_price(stock_price, time_maturity, dividends, rate):\n",
        "  return stock_price * (1 + rate * time_maturity) - dividends\n",
        "\n",
        "a = forward_price(46.85, 2/12, 0, .048)\n",
        "b = forward_price(94.66, 10/52, .5, .0275)\n",
        "c = forward_price(53.28, 216/365, .3, .061)\n",
        "d = forward_price(130, 4/52, .75, .0322)\n",
        "e = forward_price(19.7, 5/12, .16, .0831)\n",
        "print(f'Forward Price for a: {round(a, 2)}')\n",
        "print(f'Forward Price for b: {round(b, 2)}')\n",
        "print(f'Forward Price for c: {round(c, 2)}')\n",
        "print(f'Forward Price for d: {round(d, 2)}')\n",
        "print(f'Forward Price for e: {round(e, 2)}')\n",
        "\n",
        "\n",
        "\n"
      ],
      "metadata": {
        "colab": {
          "base_uri": "https://localhost:8080/"
        },
        "id": "vCeZQmL6kEZe",
        "outputId": "36977d46-7a2b-433f-84a8-2e31ee0d0aa3"
      },
      "execution_count": 7,
      "outputs": [
        {
          "output_type": "stream",
          "name": "stdout",
          "text": [
            "Forward Price for a: 47.22\n",
            "Forward Price for b: 94.66\n",
            "Forward Price for c: 54.9\n",
            "Forward Price for d: 129.57\n",
            "Forward Price for e: 20.22\n"
          ]
        }
      ]
    },
    {
      "cell_type": "code",
      "source": [
        "# 2)\n",
        "\n",
        "stock_price = 123.15\n",
        "time_maturity = 12\n",
        "semi_dividend = 2.6\n",
        "rate = .0530\n",
        "\n",
        "t1 = (time_maturity - 2)\n",
        "t2 = (time_maturity - 2 - 6)\n",
        "\n",
        "F = (stock_price * (1 + rate * time_maturity/12)) - (semi_dividend * (1 + rate * t1/12)) - (semi_dividend * (1 + rate * t2/12))\n",
        "print(f'Forward price: {F}')"
      ],
      "metadata": {
        "colab": {
          "base_uri": "https://localhost:8080/"
        },
        "id": "l3z_Ftr1lb32",
        "outputId": "0cf7c279-6889-4932-b521-c4456ad132e9"
      },
      "execution_count": 14,
      "outputs": [
        {
          "output_type": "stream",
          "name": "stdout",
          "text": [
            "Forward price: 124.31618333333334\n"
          ]
        }
      ]
    },
    {
      "cell_type": "code",
      "source": [
        "# 3)\n",
        "\n",
        "# S = F + D/1 + r x t\n",
        "\n",
        "def calc_stock_price(futures_price, time_maturity, dividends, rate):\n",
        "  return (futures_price + dividends)/(1 + rate * time_maturity)\n",
        "\n",
        "a = calc_stock_price(39.95, 3/12, .1, .0375)\n",
        "b = calc_stock_price(114.1, 19/52, .62, .0711)\n",
        "c = calc_stock_price(80.76, 35/365, .25, .0500)\n",
        "\n",
        "print(f'Stock Price for a: {round(a, 2)}')\n",
        "print(f'Stock Price for b: {round(b, 2)}')\n",
        "print(f'Stock Price for c: {round(c, 2)}')"
      ],
      "metadata": {
        "colab": {
          "base_uri": "https://localhost:8080/"
        },
        "id": "_UXyWKq8pqiW",
        "outputId": "ed850002-c4c4-42ef-8849-c2ec4e6766c1"
      },
      "execution_count": 16,
      "outputs": [
        {
          "output_type": "stream",
          "name": "stdout",
          "text": [
            "Stock Price for a: 39.68\n",
            "Stock Price for b: 111.82\n",
            "Stock Price for c: 80.62\n"
          ]
        }
      ]
    },
    {
      "cell_type": "code",
      "source": [
        "# 4)\n",
        "\n",
        "# a)\n",
        "def implied_dividend(spot_price, rate, time, forward_price):\n",
        "  return (spot_price * (1 + rate * time) - forward_price)\n",
        "\n",
        "a = implied_dividend(76.60, .0425, 84/365, 76.95)\n",
        "print(f'Implied Dividend: {a}')\n",
        "\n",
        "\n",
        "# b)\n",
        "def implied_rate(forward_price, dividends, spot_price, time):\n",
        "  return ((((forward_price + dividends)/spot_price) - 1)/time)\n",
        "\n",
        "b = implied_rate(77.30, .51, 76.70, 84/365)\n",
        "print(f'Implied rate: {b*100}')\n",
        "\n"
      ],
      "metadata": {
        "colab": {
          "base_uri": "https://localhost:8080/"
        },
        "id": "4DI1Rei6uScf",
        "outputId": "e511427f-f0c3-4f99-b79c-980556f9c94d"
      },
      "execution_count": 19,
      "outputs": [
        {
          "output_type": "stream",
          "name": "stdout",
          "text": [
            "Implied Dividend: 0.3992109589040922\n",
            "Implied rate: 6.288414974855691\n"
          ]
        }
      ]
    },
    {
      "cell_type": "code",
      "source": [
        "# 5)\n",
        "\n",
        "# a)\n",
        "def commodity_forward(price, rate, time, storage_cost):\n",
        "  return price * (1 + rate * time) + storage_cost * 5\n",
        "\n",
        "a = commodity_forward(463.25, .064, 5/12, 2.75)\n",
        "print(f'Commodity Forward: {a}')\n",
        "\n",
        "# b)\n",
        "# sell the five-month futures contract and simultaneously buy the commodity\n",
        "\n",
        "# Buy the commodity now and store it for five months.\n",
        "# This will only cost you 489.35. Given the above prices, there may also be an\n",
        "# arbitrage opportunity, but that is not your focus. As an end user you want delivery at the lowest possible price.\n",
        "\n",
        "\n",
        "# c) If the price of the same five-month futures contract is currently 480.00, now what would you, as an end user, do?\n",
        "\n",
        "# buy the futures contract and take delivery within 5 months\n",
        "\n",
        "\n",
        "# d) The additional amount that buyers are willing to pay right now for\n",
        "# immediate access to a commodity is sometimes referred to as the convenience yield.\n",
        "# Using the interest rate and storage costs in the previous question,\n",
        "# if the commodity is still trading at a cash price of 463.25 and a two-month\n",
        "# futures contract is trading at a price of 468.50, what is the two-month convenience yield?\n",
        "\n",
        "# cash price = (F - s) * t / 1 + rt\n",
        "\n",
        "cash_price = (468.5 - (2.75*2))/(1 + .064 * 2/12)\n",
        "print(f'Two-month convenience yield: {cash_price}')\n"
      ],
      "metadata": {
        "colab": {
          "base_uri": "https://localhost:8080/"
        },
        "id": "_bOo3or2xotH",
        "outputId": "db3f4cec-f833-4cde-ae1a-186eb41303d4"
      },
      "execution_count": 35,
      "outputs": [
        {
          "output_type": "stream",
          "name": "stdout",
          "text": [
            "Commodity Forward: 489.3533333333333\n",
            "Two-month convenience yield: 458.11345646437996\n"
          ]
        }
      ]
    },
    {
      "cell_type": "markdown",
      "source": [
        "6) If S is the current exchange rate for a foreign currency (the foreign currency in domestic currency units), t is the time to maturity, rd is the domestic currency interest rate, and rf is the foreign currency interest rate, then, using simple interest, the forward price F for a foreign currency can be approximated as:\n",
        "\n",
        "F = S × (1 + rdt) / (1 + rft)\n",
        "\n",
        "Suppose that at the current exchange rate one British pound is equal to 1.24 euros (£1.00 = €1.24). If the pound interest rate is 3.78% and the euro interest rate is 2.32%, what should be a three-month forward price for the pound expressed in euros?\n"
      ],
      "metadata": {
        "id": "CZBTdmX79Dm3"
      }
    },
    {
      "cell_type": "code",
      "source": [
        "forward_price = (1.24 * (1 + .0232 * 3/12)) / (1 + .0378 * 3/12)\n",
        "\n",
        "print(f'{forward_price}')"
      ],
      "metadata": {
        "colab": {
          "base_uri": "https://localhost:8080/"
        },
        "id": "spVimAka1VXh",
        "outputId": "5328add0-5357-49d5-e65a-e513f8e5c866"
      },
      "execution_count": 37,
      "outputs": [
        {
          "output_type": "stream",
          "name": "stdout",
          "text": [
            "1.2355163703006589\n"
          ]
        }
      ]
    },
    {
      "cell_type": "code",
      "source": [],
      "metadata": {
        "id": "3II6zB8gAq-y"
      },
      "execution_count": null,
      "outputs": []
    }
  ]
}